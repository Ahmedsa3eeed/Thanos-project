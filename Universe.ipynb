{
 "cells": [
  {
   "cell_type": "code",
   "execution_count": 23,
   "id": "411e2c0e",
   "metadata": {},
   "outputs": [],
   "source": [
    "def Read(x):   ##where x is the path of the universe folder\n",
    "    from os import listdir\n",
    "    y = listdir(x)    ##read all files in the universe folder\n",
    "    return y"
   ]
  },
  {
   "cell_type": "code",
   "execution_count": 28,
   "id": "eaa216b6",
   "metadata": {},
   "outputs": [],
   "source": [
    "def Deleted(x):  ##where x is items of images of universe folder\n",
    "    from random import sample\n",
    "    z = sample(x, int(0.5*len(x)))   ##sample is used to avoid duplication in random choices \n",
    "    print (f'the deleted items are {z}')\n",
    "    for i in z:\n",
    "        x.remove(i)\n",
    "    return f'the items are {x} after removing the randomed choices'"
   ]
  },
  {
   "cell_type": "code",
   "execution_count": 29,
   "id": "be7283fd",
   "metadata": {},
   "outputs": [],
   "source": [
    "a = Read('universe')"
   ]
  },
  {
   "cell_type": "code",
   "execution_count": 30,
   "id": "6e9b36a6",
   "metadata": {},
   "outputs": [
    {
     "data": {
      "text/plain": [
       "['cover006.png',\n",
       " 'cover009.png',\n",
       " 'cover011.png',\n",
       " 'cover014.png',\n",
       " 'cover015.png',\n",
       " 'cover016.png',\n",
       " 'cover018.png',\n",
       " 'cover020.png',\n",
       " 'cover023.png',\n",
       " 'cover024.png',\n",
       " 'cover025.png',\n",
       " 'cover027.png',\n",
       " 'cover028.png',\n",
       " 'cover030.png',\n",
       " 'cover031.png',\n",
       " 'cover033.png',\n",
       " 'cover039.png',\n",
       " 'cover040.png',\n",
       " 'cover041.png',\n",
       " 'cover043.png',\n",
       " 'cover046.png',\n",
       " 'cover050.png',\n",
       " 'cover555.png']"
      ]
     },
     "execution_count": 30,
     "metadata": {},
     "output_type": "execute_result"
    }
   ],
   "source": [
    "a"
   ]
  },
  {
   "cell_type": "code",
   "execution_count": 33,
   "id": "94992370",
   "metadata": {},
   "outputs": [
    {
     "name": "stdout",
     "output_type": "stream",
     "text": [
      "the deleted items are ['cover015.png', 'cover031.png', 'cover033.png', 'cover028.png', 'cover011.png', 'cover027.png']\n"
     ]
    },
    {
     "data": {
      "text/plain": [
       "\"the items are ['cover006.png', 'cover018.png', 'cover023.png', 'cover030.png', 'cover040.png', 'cover046.png'] after removing the randomed choices\""
      ]
     },
     "execution_count": 33,
     "metadata": {},
     "output_type": "execute_result"
    }
   ],
   "source": [
    "Deleted(a)"
   ]
  },
  {
   "cell_type": "code",
   "execution_count": null,
   "id": "6b3b1019",
   "metadata": {},
   "outputs": [],
   "source": []
  },
  {
   "cell_type": "code",
   "execution_count": null,
   "id": "db4c5bea",
   "metadata": {},
   "outputs": [],
   "source": []
  }
 ],
 "metadata": {
  "kernelspec": {
   "display_name": "Python 3 (ipykernel)",
   "language": "python",
   "name": "python3"
  },
  "language_info": {
   "codemirror_mode": {
    "name": "ipython",
    "version": 3
   },
   "file_extension": ".py",
   "mimetype": "text/x-python",
   "name": "python",
   "nbconvert_exporter": "python",
   "pygments_lexer": "ipython3",
   "version": "3.10.8"
  }
 },
 "nbformat": 4,
 "nbformat_minor": 5
}
